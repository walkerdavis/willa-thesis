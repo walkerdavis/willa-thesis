{
 "cells": [
  {
   "cell_type": "markdown",
   "metadata": {},
   "source": [
    "# Willa Thesis Data Collection Notebook"
   ]
  },
  {
   "cell_type": "markdown",
   "metadata": {},
   "source": [
    "### Import libraries and functions from repo"
   ]
  },
  {
   "cell_type": "code",
   "execution_count": 1,
   "metadata": {},
   "outputs": [],
   "source": [
    "import os\n",
    "import pandas\n",
    "import textract\n",
    "\n",
    "from functions.convert_raw_txt_to_list              import convert_raw_txt_to_list\n",
    "from functions.get_article_str                      import get_article_str\n",
    "from functions.get_word_count_in_article            import get_word_count_in_article"
   ]
  },
  {
   "cell_type": "markdown",
   "metadata": {},
   "source": [
    "### Set up filepaths"
   ]
  },
  {
   "cell_type": "code",
   "execution_count": 2,
   "metadata": {},
   "outputs": [],
   "source": [
    "src_dir     =   '/'.join(os.getcwd().split('/'))\n",
    "txt_dir     =   os.path.join(src_dir, 'country_word_lists_raw')\n",
    "\n",
    "# specify where you have put the article folder\n",
    "article_dir =   '$ARTICLE_FILEPATH'\n",
    "# might look like: '/Users/$YOUR_NAME$/Desktop/articles/'\n",
    "\n",
    "countries   =   ['estonia', 'latvia', 'lithuania']"
   ]
  },
  {
   "cell_type": "markdown",
   "metadata": {},
   "source": [
    "### Count word instances per article"
   ]
  },
  {
   "cell_type": "code",
   "execution_count": null,
   "metadata": {
    "tags": []
   },
   "outputs": [],
   "source": [
    "for c in countries:\n",
    "    print(c.upper())\n",
    "    word_text_fp    =   os.path.join(txt_dir, c + '.txt')\n",
    "    country_dir     =   os.path.join(article_dir, c)\n",
    "    publications    =   os.listdir(country_dir)\n",
    "\n",
    "    word_nested_list    =   convert_raw_txt_to_list(word_text_fp)\n",
    "\n",
    "    df = pandas.DataFrame()\n",
    "    df['article']       =   str\n",
    "    df['publication']   =   str\n",
    "    for w in word_nested_list:\n",
    "        \n",
    "        df[w[0]]        =   int\n",
    "    df_filepath         =   os.path.join(article_dir, c + '_wordcount.csv')\n",
    "    a_ind               =   0\n",
    "\n",
    "    for p in publications:\n",
    "        if p != '.DS_Store':\n",
    "            print('  ', p.upper())\n",
    "            publication_dir     =   os.path.join(country_dir, p)\n",
    "            articles            =   os.listdir(publication_dir)\n",
    "\n",
    "            for a in articles:\n",
    "                try:\n",
    "                    if (a != '.DS_Store'):\n",
    "                        df.at[(a_ind, 'article')]       =   a\n",
    "                        df.at[(a_ind, 'publication')]   =   p\n",
    "\n",
    "                        article_fp  =   os.path.join(publication_dir, a)\n",
    "                        article_str =   get_article_str(article_fp)\n",
    "\n",
    "                        for w in word_nested_list:\n",
    "                            w_count =   get_word_count_in_article(article_str, w)\n",
    "                            df.at[(a_ind, w[0])]   = w_count\n",
    "\n",
    "                        # move to next article index, save csv\n",
    "                        a_ind   += 1\n",
    "                        df.to_csv(df_filepath)\n",
    "                except:\n",
    "                    print('*ERROR*  ', a)\n",
    "                    pass"
   ]
  },
  {
   "cell_type": "markdown",
   "metadata": {},
   "source": [
    "### Get Years of Publication\n",
    "#### This portion requires the user to double-check the actual publication date.  For instance, if an article contains multiple years within the text, the user will need to confirm that particular article.  If only one year listed in the article, we assume that is the publication year."
   ]
  },
  {
   "cell_type": "code",
   "execution_count": null,
   "metadata": {
    "tags": []
   },
   "outputs": [],
   "source": [
    "year_list = []\n",
    "for i in range(2011, 2021):\n",
    "    year_list.append(str(i))\n",
    "\n",
    "print(year_list)"
   ]
  },
  {
   "cell_type": "code",
   "execution_count": null,
   "metadata": {
    "tags": []
   },
   "outputs": [],
   "source": [
    "for c in countries:\n",
    "    print(c.upper())\n",
    "    word_text_fp    =   os.path.join(txt_dir, c + '.txt')\n",
    "    country_dir     =   os.path.join(article_dir, c)\n",
    "    publications    =   os.listdir(country_dir)\n",
    "\n",
    "    df_filepath             =   os.path.join(article_dir, c + '_wordcount.csv')\n",
    "    df_filepath_w_dates     =   df_filepath.replace('.', 'w_dates')\n",
    "\n",
    "    df = pandas.read_csv(df_filepath)\n",
    "    df['year_published']        =   str\n",
    "    \n",
    "    a_ind               =   0\n",
    "\n",
    "    for p in publications:\n",
    "        if p != '.DS_Store':\n",
    "            print('  ', p.upper())\n",
    "            publication_dir     =   os.path.join(country_dir, p)\n",
    "            articles            =   os.listdir(publication_dir)\n",
    "\n",
    "            for a in articles:\n",
    "                # print('  ', a)\n",
    "                try:\n",
    "                    if (a != '.DS_Store'):\n",
    "\n",
    "                        article_fp  =   os.path.join(publication_dir, a)\n",
    "                        article_str =   get_article_str(article_fp)\n",
    "\n",
    "                        years_in_doc    =   []\n",
    "                        for y in year_list:\n",
    "                            if y in article_str:\n",
    "                                years_in_doc.append(y)\n",
    "                        df.at[(a_ind, 'year_published')]   = w_count\n",
    "\n",
    "                        # move to next article index, save csv\n",
    "                        a_ind   += 1\n",
    "                        df.to_csv(df_filepath_w_dates)\n",
    "                except:\n",
    "                    print('    *ERROR*  ', a)\n",
    "                    pass"
   ]
  },
  {
   "cell_type": "code",
   "execution_count": null,
   "metadata": {},
   "outputs": [],
   "source": []
  }
 ],
 "metadata": {
  "kernelspec": {
   "display_name": "Python 3.7.7 64-bit (conda)",
   "language": "python",
   "name": "python37764bitconda7acb5b4fe65c44fd85792cbd4b63dcd0"
  },
  "language_info": {
   "codemirror_mode": {
    "name": "ipython",
    "version": 3
   },
   "file_extension": ".py",
   "mimetype": "text/x-python",
   "name": "python",
   "nbconvert_exporter": "python",
   "pygments_lexer": "ipython3",
   "version": "3.7.7"
  }
 },
 "nbformat": 4,
 "nbformat_minor": 2
}
